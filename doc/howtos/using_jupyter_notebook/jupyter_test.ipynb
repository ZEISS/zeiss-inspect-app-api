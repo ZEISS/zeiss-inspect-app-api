{
 "cells": [
  {
   "cell_type": "markdown",
   "id": "6bed0671-8e3f-4837-9ab2-d61d74840074",
   "metadata": {},
   "source": [
    "# Jupyter Notebook Test"
   ]
  },
  {
   "cell_type": "markdown",
   "id": "b7c8a2e8-b671-421f-b511-b6a27516f7fd",
   "metadata": {},
   "source": [
    "This page was rendered from the Jupyter Notebook page <a href=\"jupyter_test.ipynb\">jupyter_test.ipynb</a> by Sphinx using the [myst-nb](https://myst-nb.readthedocs.io/en/v0.8.5/index.html).\n",
    "\n",
    "You can download <a href=\"jupyter_test.ipynb\">jupyter_test.ipynb</a> to run it in your local Jupyter Notebook installation connected to ZEISS INSPECT.\n",
    "\n",
    "In general, `myst-nb` can execute code cells while rendering. However, this is not possible here, because ZEISS INSPECT is not available in the GitHub CI environment. Therefore, Notebook execution is disabled in the Sphinx configuration and the page is shown with output from a previous run in the proper execution environment."
   ]
  },
  {
   "cell_type": "code",
   "execution_count": 1,
   "id": "13dea067-f619-4885-a54c-ed0283db8a59",
   "metadata": {},
   "outputs": [
    {
     "name": "stdout",
     "output_type": "stream",
     "text": [
      "Hello world!\n",
      "sys.path=['C:\\\\Users\\\\IQMPRINK\\\\AppData\\\\Local\\\\Programs\\\\Python\\\\Python39\\\\python39.zip', 'C:\\\\Users\\\\IQMPRINK\\\\AppData\\\\Local\\\\Programs\\\\Python\\\\Python39\\\\DLLs', 'C:\\\\Users\\\\IQMPRINK\\\\AppData\\\\Local\\\\Programs\\\\Python\\\\Python39\\\\lib', 'C:\\\\Users\\\\IQMPRINK\\\\AppData\\\\Local\\\\Programs\\\\Python\\\\Python39', 'C:\\\\Users\\\\IQMPRINK\\\\jupyter_env', '', 'C:\\\\Users\\\\IQMPRINK\\\\jupyter_env\\\\lib\\\\site-packages', 'C:\\\\Users\\\\IQMPRINK\\\\jupyter_env\\\\lib\\\\site-packages\\\\win32', 'C:\\\\Users\\\\IQMPRINK\\\\jupyter_env\\\\lib\\\\site-packages\\\\win32\\\\lib', 'C:\\\\Users\\\\IQMPRINK\\\\jupyter_env\\\\lib\\\\site-packages\\\\Pythonwin']\n",
      "C:\\Users\\IQMPRINK\\Desktop\\jupyter_test\\scripts\n",
      "sys.path=['C:\\\\Users\\\\IQMPRINK\\\\AppData\\\\Local\\\\Programs\\\\Python\\\\Python39\\\\python39.zip', 'C:\\\\Users\\\\IQMPRINK\\\\AppData\\\\Local\\\\Programs\\\\Python\\\\Python39\\\\DLLs', 'C:\\\\Users\\\\IQMPRINK\\\\AppData\\\\Local\\\\Programs\\\\Python\\\\Python39\\\\lib', 'C:\\\\Users\\\\IQMPRINK\\\\AppData\\\\Local\\\\Programs\\\\Python\\\\Python39', 'C:\\\\Users\\\\IQMPRINK\\\\jupyter_env', '', 'C:\\\\Users\\\\IQMPRINK\\\\jupyter_env\\\\lib\\\\site-packages', 'C:\\\\Users\\\\IQMPRINK\\\\jupyter_env\\\\lib\\\\site-packages\\\\win32', 'C:\\\\Users\\\\IQMPRINK\\\\jupyter_env\\\\lib\\\\site-packages\\\\win32\\\\lib', 'C:\\\\Users\\\\IQMPRINK\\\\jupyter_env\\\\lib\\\\site-packages\\\\Pythonwin']\n",
      "sys.prefix='C:\\\\Users\\\\IQMPRINK\\\\jupyter_env'\n",
      "sys.platlibdir='lib'\n",
      "sys.exec_prefix='C:\\\\Users\\\\IQMPRINK\\\\jupyter_env'\n",
      "sys.base_prefix='C:\\\\Users\\\\IQMPRINK\\\\AppData\\\\Local\\\\Programs\\\\Python\\\\Python39'\n"
     ]
    }
   ],
   "source": [
    "import os\n",
    "import sys\n",
    "import dummy\n",
    "\n",
    "os.environ['TOM_PYTHON_API_URL'] = 'ws://localhost:44444?apikey=9f7103b3cfd3561d977f373884c7280c359867924e320e8e1b52fab704a9435f'\n",
    "\n",
    "# Uses the TOM_PYTHON_API_URL to establish a connection to ZEISS INSPECT\n",
    "import gom\n",
    "print(\"Hello world!\")\n",
    "\n"
   ]
  },
  {
   "cell_type": "code",
   "execution_count": 2,
   "id": "962bb195-5511-4ec2-b1b5-93707a45d741",
   "metadata": {},
   "outputs": [],
   "source": [
    "print(f\"{sys.path=}\")\n",
    "\n",
    "# Patch script path\n",
    "current_dir = os.getcwd()\n",
    "print(f\"{current_dir}\")\n",
    "#sys.path.insert(0, current_dir)"
   ]
  },
  {
   "cell_type": "code",
   "execution_count": 3,
   "id": "3988a5a8-95d6-4e56-8f28-e448e03106e8",
   "metadata": {},
   "outputs": [],
   "source": [
    "# Python system info\n",
    "print(f\"{sys.path=}\")\n",
    "print(f\"{sys.prefix=}\")\n",
    "print(f\"{sys.platlibdir=}\")\n",
    "print(f\"{sys.exec_prefix=}\")\n",
    "print(f\"{sys.base_prefix=}\")"
   ]
  },
  {
   "cell_type": "code",
   "execution_count": 4,
   "id": "5a750cef-33c9-46d9-86bd-b0e0fb41eb61",
   "metadata": {},
   "outputs": [],
   "source": [
    "# Workaround for finding dialog files in current notebook's folder\n",
    "# Define the wrapper function\n",
    "def patched_create_user_defined_dialog(file, *args, **kwargs):\n",
    "    # Prepend the path to the file\n",
    "    new_file = os.path.join(os.getcwd(), file)\n",
    "    \n",
    "    # Call the original function with the modified file path\n",
    "    return original_create_user_defined_dialog(file=new_file, *args, **kwargs)\n",
    "\n",
    "# Store the original function\n",
    "original_create_user_defined_dialog = gom.script.sys.create_user_defined_dialog\n",
    "\n",
    "# Replace the original function with the patched version\n",
    "gom.script.sys.create_user_defined_dialog = patched_create_user_defined_dialog"
   ]
  },
  {
   "cell_type": "code",
   "execution_count": 5,
   "id": "e4e7c369-ebda-4628-83e1-bc16875940ed",
   "metadata": {},
   "outputs": [],
   "source": [
    "DIALOG=gom.script.sys.create_user_defined_dialog (file='dialog.gdlg')\n",
    "\n",
    "#\n",
    "# Event handler function called if anything happens inside of the dialog\n",
    "#\n",
    "def dialog_event_handler (widget):\n",
    "\tpass\n",
    "\n",
    "DIALOG.handler = dialog_event_handler\n",
    "\n",
    "RESULT=gom.script.sys.show_user_defined_dialog (dialog=DIALOG)"
   ]
  },
  {
   "cell_type": "code",
   "execution_count": 6,
   "id": "25306e07-70ca-4de7-a41b-6d32263b5199",
   "metadata": {},
   "outputs": [],
   "source": [
    "DIALOG=gom.script.sys.create_user_defined_dialog (file='dialog2/dialog2.gdlg')\n",
    "\n",
    "#\n",
    "# Event handler function called if anything happens inside of the dialog\n",
    "#\n",
    "def dialog_event_handler (widget):\n",
    "\tpass\n",
    "\n",
    "DIALOG.handler = dialog_event_handler\n",
    "\n",
    "RESULT=gom.script.sys.show_user_defined_dialog (dialog=DIALOG)"
   ]
  },
  {
   "cell_type": "code",
   "execution_count": 6,
   "id": "ae87f269-52a3-4e39-8b7b-941db66f5924",
   "metadata": {},
   "outputs": [],
   "source": [
    "print(dummy.my_var)\n",
    "dummy.show_var()\n"
   ]
  },
  {
   "cell_type": "code",
   "execution_count": null,
   "id": "1fa2a384-f91d-479e-b918-65aad78f311c",
   "metadata": {},
   "outputs": [],
   "source": []
  },
  {
   "cell_type": "code",
   "execution_count": null,
   "id": "f530ce0f-b1a3-4457-b851-afb24b23a6b8",
   "metadata": {},
   "outputs": [],
   "source": []
  }
 ],
 "metadata": {
  "kernelspec": {
   "display_name": "Python 3 (ipykernel)",
   "language": "python",
   "name": "python3"
  },
  "language_info": {
   "codemirror_mode": {
    "name": "ipython",
    "version": 3
   },
   "file_extension": ".py",
   "mimetype": "text/x-python",
   "name": "python",
   "nbconvert_exporter": "python",
   "pygments_lexer": "ipython3",
   "version": "3.9.13"
  }
 },
 "nbformat": 4,
 "nbformat_minor": 5
}
